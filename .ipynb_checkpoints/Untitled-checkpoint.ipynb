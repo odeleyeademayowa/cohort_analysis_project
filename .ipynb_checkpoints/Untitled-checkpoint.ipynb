{
 "cells": [
  {
   "cell_type": "markdown",
   "id": "cebed793-8253-4b5a-965b-b2320c2dcd76",
   "metadata": {},
   "source": [
    "# Import Libraries and packages"
   ]
  },
  {
   "cell_type": "code",
   "execution_count": 3,
   "id": "7b772f8e-b522-49df-a638-0806b4d9ffba",
   "metadata": {},
   "outputs": [],
   "source": [
    "%matplotlib inline\n",
    "import numpy as np\n",
    "import pandas as pd\n",
    "import matplotlib.pyplot as plt\n",
    "import seaborn as sns\n",
    "sns.set(\n",
    "    { \"figure.figsize\": (8, 5) },\n",
    "    style='ticks',\n",
    "    color_codes=True,\n",
    "    font_scale=1\n",
    ")\n",
    "%config InlineBackend.figure_format = 'retina'\n",
    "\n",
    "# Ignore warnings\n",
    "import warnings\n",
    "warnings.filterwarnings('ignore')\n",
    "\n",
    "!pip install category_encoders -q\n",
    "\n",
    "# ML utilities\n",
    "from sklearn.model_selection import train_test_split, StratifiedShuffleSplit, KFold, cross_val_score\n",
    "from sklearn.preprocessing import StandardScaler, MinMaxScaler, LabelEncoder\n",
    "from sklearn import metrics\n",
    "\n",
    "# Models\n",
    "from sklearn.linear_model import LogisticRegression\n",
    "from sklearn.tree import DecisionTreeClassifier, export_text\n",
    "from sklearn.ensemble import RandomForestClassifier\n",
    "from sklearn.neighbors import KNeighborsClassifier\n",
    "from sklearn.cluster import KMeans\n",
    "\n",
    "# Encoding and metrics\n",
    "from category_encoders import TargetEncoder\n",
    "from sklearn.metrics import accuracy_score, balanced_accuracy_score, confusion_matrix, classification_report\n",
    "\n",
    "# Hyperparameter tuning\n",
    "from sklearn.model_selection import GridSearchCV, RandomizedSearchCV"
   ]
  },
  {
   "cell_type": "markdown",
   "id": "ab066529-d757-4bf0-a38e-37834199352c",
   "metadata": {},
   "source": [
    "# Loading the dataset"
   ]
  },
  {
   "cell_type": "code",
   "execution_count": 7,
   "id": "047acfa5-727b-43db-8c67-c49aa21b4ea8",
   "metadata": {},
   "outputs": [],
   "source": [
    "ecom_data = pd.read_csv('/Users/lapt/Downloads/Dataset_ecommerce.csv')"
   ]
  },
  {
   "cell_type": "markdown",
   "id": "1bd143c1-3672-4df1-8542-357162f4d5a9",
   "metadata": {},
   "source": [
    "# Initial inspection of the dataset"
   ]
  },
  {
   "cell_type": "code",
   "execution_count": 10,
   "id": "3bf6a3ab-29a0-43fe-a35c-b9f1ac1beb15",
   "metadata": {},
   "outputs": [
    {
     "data": {
      "text/html": [
       "<div>\n",
       "<style scoped>\n",
       "    .dataframe tbody tr th:only-of-type {\n",
       "        vertical-align: middle;\n",
       "    }\n",
       "\n",
       "    .dataframe tbody tr th {\n",
       "        vertical-align: top;\n",
       "    }\n",
       "\n",
       "    .dataframe thead th {\n",
       "        text-align: right;\n",
       "    }\n",
       "</style>\n",
       "<table border=\"1\" class=\"dataframe\">\n",
       "  <thead>\n",
       "    <tr style=\"text-align: right;\">\n",
       "      <th></th>\n",
       "      <th>InvoiceNo</th>\n",
       "      <th>InvoiceDate</th>\n",
       "      <th>CustomerID</th>\n",
       "      <th>StockCode</th>\n",
       "      <th>Description</th>\n",
       "      <th>Quantity</th>\n",
       "      <th>UnitPrice</th>\n",
       "      <th>Country</th>\n",
       "    </tr>\n",
       "  </thead>\n",
       "  <tbody>\n",
       "    <tr>\n",
       "      <th>0</th>\n",
       "      <td>536365</td>\n",
       "      <td>2010-12-01 08:26:00</td>\n",
       "      <td>17850.0</td>\n",
       "      <td>SC1734</td>\n",
       "      <td>Electronics</td>\n",
       "      <td>65</td>\n",
       "      <td>10.23</td>\n",
       "      <td>Egypt</td>\n",
       "    </tr>\n",
       "    <tr>\n",
       "      <th>1</th>\n",
       "      <td>536365</td>\n",
       "      <td>2010-12-01 08:26:00</td>\n",
       "      <td>17850.0</td>\n",
       "      <td>SC2088</td>\n",
       "      <td>Furniture</td>\n",
       "      <td>95</td>\n",
       "      <td>19.61</td>\n",
       "      <td>Mali</td>\n",
       "    </tr>\n",
       "    <tr>\n",
       "      <th>2</th>\n",
       "      <td>536365</td>\n",
       "      <td>2010-12-01 08:26:00</td>\n",
       "      <td>17850.0</td>\n",
       "      <td>SC3463</td>\n",
       "      <td>Books</td>\n",
       "      <td>78</td>\n",
       "      <td>61.49</td>\n",
       "      <td>Mali</td>\n",
       "    </tr>\n",
       "    <tr>\n",
       "      <th>3</th>\n",
       "      <td>536365</td>\n",
       "      <td>2010-12-01 08:26:00</td>\n",
       "      <td>17850.0</td>\n",
       "      <td>SC6228</td>\n",
       "      <td>Toys</td>\n",
       "      <td>15</td>\n",
       "      <td>24.73</td>\n",
       "      <td>South Africa</td>\n",
       "    </tr>\n",
       "    <tr>\n",
       "      <th>4</th>\n",
       "      <td>536365</td>\n",
       "      <td>2010-12-01 08:26:00</td>\n",
       "      <td>17850.0</td>\n",
       "      <td>SC2149</td>\n",
       "      <td>Toys</td>\n",
       "      <td>50</td>\n",
       "      <td>38.83</td>\n",
       "      <td>Rwanda</td>\n",
       "    </tr>\n",
       "  </tbody>\n",
       "</table>\n",
       "</div>"
      ],
      "text/plain": [
       "  InvoiceNo          InvoiceDate  CustomerID StockCode  Description  Quantity  \\\n",
       "0    536365  2010-12-01 08:26:00     17850.0    SC1734  Electronics        65   \n",
       "1    536365  2010-12-01 08:26:00     17850.0    SC2088    Furniture        95   \n",
       "2    536365  2010-12-01 08:26:00     17850.0    SC3463        Books        78   \n",
       "3    536365  2010-12-01 08:26:00     17850.0    SC6228         Toys        15   \n",
       "4    536365  2010-12-01 08:26:00     17850.0    SC2149         Toys        50   \n",
       "\n",
       "   UnitPrice       Country  \n",
       "0      10.23         Egypt  \n",
       "1      19.61          Mali  \n",
       "2      61.49          Mali  \n",
       "3      24.73  South Africa  \n",
       "4      38.83        Rwanda  "
      ]
     },
     "execution_count": 10,
     "metadata": {},
     "output_type": "execute_result"
    }
   ],
   "source": [
    "ecom_data.head()"
   ]
  },
  {
   "cell_type": "code",
   "execution_count": 12,
   "id": "0665ca80-042d-49a0-aaea-959ae39efdfe",
   "metadata": {},
   "outputs": [
    {
     "data": {
      "text/html": [
       "<div>\n",
       "<style scoped>\n",
       "    .dataframe tbody tr th:only-of-type {\n",
       "        vertical-align: middle;\n",
       "    }\n",
       "\n",
       "    .dataframe tbody tr th {\n",
       "        vertical-align: top;\n",
       "    }\n",
       "\n",
       "    .dataframe thead th {\n",
       "        text-align: right;\n",
       "    }\n",
       "</style>\n",
       "<table border=\"1\" class=\"dataframe\">\n",
       "  <thead>\n",
       "    <tr style=\"text-align: right;\">\n",
       "      <th></th>\n",
       "      <th>InvoiceNo</th>\n",
       "      <th>InvoiceDate</th>\n",
       "      <th>CustomerID</th>\n",
       "      <th>StockCode</th>\n",
       "      <th>Description</th>\n",
       "      <th>Quantity</th>\n",
       "      <th>UnitPrice</th>\n",
       "      <th>Country</th>\n",
       "    </tr>\n",
       "  </thead>\n",
       "  <tbody>\n",
       "    <tr>\n",
       "      <th>100943</th>\n",
       "      <td>544887</td>\n",
       "      <td>2011-02-24 11:54:00</td>\n",
       "      <td>17364.0</td>\n",
       "      <td>SC7317</td>\n",
       "      <td>Sports Equipment</td>\n",
       "      <td>47</td>\n",
       "      <td>72.8</td>\n",
       "      <td>South Africa</td>\n",
       "    </tr>\n",
       "  </tbody>\n",
       "</table>\n",
       "</div>"
      ],
      "text/plain": [
       "       InvoiceNo          InvoiceDate  CustomerID StockCode       Description  \\\n",
       "100943    544887  2011-02-24 11:54:00     17364.0    SC7317  Sports Equipment   \n",
       "\n",
       "        Quantity  UnitPrice       Country  \n",
       "100943        47       72.8  South Africa  "
      ]
     },
     "execution_count": 12,
     "metadata": {},
     "output_type": "execute_result"
    }
   ],
   "source": [
    "ecom_data.sample()"
   ]
  },
  {
   "cell_type": "code",
   "execution_count": 14,
   "id": "18cbd6c1-a26a-4e5e-9e69-2edacd1af58c",
   "metadata": {},
   "outputs": [
    {
     "data": {
      "text/plain": [
       "(541909, 8)"
      ]
     },
     "execution_count": 14,
     "metadata": {},
     "output_type": "execute_result"
    }
   ],
   "source": [
    "ecom_data.shape"
   ]
  },
  {
   "cell_type": "code",
   "execution_count": 16,
   "id": "183ec2ea-b618-4f8c-8608-fe385f12d301",
   "metadata": {},
   "outputs": [
    {
     "name": "stdout",
     "output_type": "stream",
     "text": [
      "<class 'pandas.core.frame.DataFrame'>\n",
      "RangeIndex: 541909 entries, 0 to 541908\n",
      "Data columns (total 8 columns):\n",
      " #   Column       Non-Null Count   Dtype  \n",
      "---  ------       --------------   -----  \n",
      " 0   InvoiceNo    541909 non-null  object \n",
      " 1   InvoiceDate  541909 non-null  object \n",
      " 2   CustomerID   406829 non-null  float64\n",
      " 3   StockCode    541909 non-null  object \n",
      " 4   Description  541909 non-null  object \n",
      " 5   Quantity     541909 non-null  int64  \n",
      " 6   UnitPrice    541909 non-null  float64\n",
      " 7   Country      541909 non-null  object \n",
      "dtypes: float64(2), int64(1), object(5)\n",
      "memory usage: 33.1+ MB\n"
     ]
    }
   ],
   "source": [
    "ecom_data.info()"
   ]
  },
  {
   "cell_type": "markdown",
   "id": "73b757ef-ffab-4511-b236-f93579e36839",
   "metadata": {},
   "source": [
    "### Observation: Sampled Dataset contains 541909 rows and 8 columns in which most of them are strings."
   ]
  },
  {
   "cell_type": "code",
   "execution_count": 19,
   "id": "682b5b96-5ad6-4797-a0fa-244518fb5826",
   "metadata": {},
   "outputs": [
    {
     "data": {
      "text/html": [
       "<div>\n",
       "<style scoped>\n",
       "    .dataframe tbody tr th:only-of-type {\n",
       "        vertical-align: middle;\n",
       "    }\n",
       "\n",
       "    .dataframe tbody tr th {\n",
       "        vertical-align: top;\n",
       "    }\n",
       "\n",
       "    .dataframe thead th {\n",
       "        text-align: right;\n",
       "    }\n",
       "</style>\n",
       "<table border=\"1\" class=\"dataframe\">\n",
       "  <thead>\n",
       "    <tr style=\"text-align: right;\">\n",
       "      <th></th>\n",
       "      <th>CustomerID</th>\n",
       "      <th>Quantity</th>\n",
       "      <th>UnitPrice</th>\n",
       "    </tr>\n",
       "  </thead>\n",
       "  <tbody>\n",
       "    <tr>\n",
       "      <th>count</th>\n",
       "      <td>406829.000000</td>\n",
       "      <td>541909.000000</td>\n",
       "      <td>541909.000000</td>\n",
       "    </tr>\n",
       "    <tr>\n",
       "      <th>mean</th>\n",
       "      <td>15287.690570</td>\n",
       "      <td>50.534748</td>\n",
       "      <td>50.476354</td>\n",
       "    </tr>\n",
       "    <tr>\n",
       "      <th>std</th>\n",
       "      <td>1713.600303</td>\n",
       "      <td>28.849367</td>\n",
       "      <td>28.564775</td>\n",
       "    </tr>\n",
       "    <tr>\n",
       "      <th>min</th>\n",
       "      <td>12346.000000</td>\n",
       "      <td>1.000000</td>\n",
       "      <td>1.000000</td>\n",
       "    </tr>\n",
       "    <tr>\n",
       "      <th>25%</th>\n",
       "      <td>13953.000000</td>\n",
       "      <td>26.000000</td>\n",
       "      <td>25.750000</td>\n",
       "    </tr>\n",
       "    <tr>\n",
       "      <th>50%</th>\n",
       "      <td>15152.000000</td>\n",
       "      <td>51.000000</td>\n",
       "      <td>50.430000</td>\n",
       "    </tr>\n",
       "    <tr>\n",
       "      <th>75%</th>\n",
       "      <td>16791.000000</td>\n",
       "      <td>76.000000</td>\n",
       "      <td>75.180000</td>\n",
       "    </tr>\n",
       "    <tr>\n",
       "      <th>max</th>\n",
       "      <td>18287.000000</td>\n",
       "      <td>100.000000</td>\n",
       "      <td>100.000000</td>\n",
       "    </tr>\n",
       "  </tbody>\n",
       "</table>\n",
       "</div>"
      ],
      "text/plain": [
       "          CustomerID       Quantity      UnitPrice\n",
       "count  406829.000000  541909.000000  541909.000000\n",
       "mean    15287.690570      50.534748      50.476354\n",
       "std      1713.600303      28.849367      28.564775\n",
       "min     12346.000000       1.000000       1.000000\n",
       "25%     13953.000000      26.000000      25.750000\n",
       "50%     15152.000000      51.000000      50.430000\n",
       "75%     16791.000000      76.000000      75.180000\n",
       "max     18287.000000     100.000000     100.000000"
      ]
     },
     "execution_count": 19,
     "metadata": {},
     "output_type": "execute_result"
    }
   ],
   "source": [
    "ecom_data.describe()"
   ]
  },
  {
   "cell_type": "code",
   "execution_count": 21,
   "id": "a04bbcc6-d76c-41e5-a5e4-f6602e748de9",
   "metadata": {},
   "outputs": [
    {
     "name": "stdout",
     "output_type": "stream",
     "text": [
      "Unique Customers: 4372\n",
      "Unique Products: 9000\n",
      "Countries: 28\n"
     ]
    }
   ],
   "source": [
    "# Checking Unique values in the columns\n",
    "print(\"Unique Customers:\", ecom_data['CustomerID'].nunique())\n",
    "print(\"Unique Products:\", ecom_data['StockCode'].nunique())\n",
    "print(\"Countries:\", ecom_data['Country'].nunique())"
   ]
  },
  {
   "cell_type": "code",
   "execution_count": 23,
   "id": "cf95f6e5-ed83-4c8b-bf11-97675f905258",
   "metadata": {},
   "outputs": [
    {
     "data": {
      "text/plain": [
       "InvoiceNo           0\n",
       "InvoiceDate         0\n",
       "CustomerID     135080\n",
       "StockCode           0\n",
       "Description         0\n",
       "Quantity            0\n",
       "UnitPrice           0\n",
       "Country             0\n",
       "dtype: int64"
      ]
     },
     "execution_count": 23,
     "metadata": {},
     "output_type": "execute_result"
    }
   ],
   "source": [
    "ecom_data.isnull().sum()"
   ]
  },
  {
   "cell_type": "markdown",
   "id": "70fa95a1-3db1-4d50-8f0d-1bcd2e993af0",
   "metadata": {},
   "source": [
    "### Observation - The CustomerID column have 135080 null values (missing data)."
   ]
  },
  {
   "cell_type": "markdown",
   "id": "8dfc2dba-c530-4e7d-a735-1d64fb9ffdc0",
   "metadata": {},
   "source": [
    "# Splitting the features to qualitative and quantitative features"
   ]
  },
  {
   "cell_type": "code",
   "execution_count": null,
   "id": "745b262f-3a05-4c8a-b68c-ea2f5d416622",
   "metadata": {},
   "outputs": [],
   "source": []
  }
 ],
 "metadata": {
  "kernelspec": {
   "display_name": "Python [conda env:base] *",
   "language": "python",
   "name": "conda-base-py"
  },
  "language_info": {
   "codemirror_mode": {
    "name": "ipython",
    "version": 3
   },
   "file_extension": ".py",
   "mimetype": "text/x-python",
   "name": "python",
   "nbconvert_exporter": "python",
   "pygments_lexer": "ipython3",
   "version": "3.12.7"
  }
 },
 "nbformat": 4,
 "nbformat_minor": 5
}
